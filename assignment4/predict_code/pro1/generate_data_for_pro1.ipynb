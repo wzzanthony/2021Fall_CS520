{
 "cells": [
  {
   "cell_type": "code",
   "execution_count": 1,
   "metadata": {
    "collapsed": true
   },
   "outputs": [],
   "source": [
    "import os\n",
    "import json\n",
    "import math\n",
    "import time"
   ]
  },
  {
   "cell_type": "code",
   "execution_count": 2,
   "outputs": [],
   "source": [
    "from maze_pro1 import Maze, Cell\n",
    "from algorithm_pro1 import RepeatedForwardAStar"
   ],
   "metadata": {
    "collapsed": false,
    "pycharm": {
     "name": "#%%\n"
    }
   }
  },
  {
   "cell_type": "code",
   "execution_count": 3,
   "outputs": [],
   "source": [
    "maze_files_path='D:\\\\520_data\\\\3'\n",
    "save_file_path='D:\\\\520_data\\\\compare_data'"
   ],
   "metadata": {
    "collapsed": false,
    "pycharm": {
     "name": "#%%\n"
    }
   }
  },
  {
   "cell_type": "code",
   "execution_count": 4,
   "outputs": [],
   "source": [
    "def euclidean_heuristic(cell1: Cell, cell2: Cell):\n",
    "    x1, y1 = cell1.position\n",
    "    x2, y2 = cell2.position\n",
    "    return math.sqrt(math.pow((x1 - x2), 2) + math.pow((y1 - y2), 2))\n"
   ],
   "metadata": {
    "collapsed": false,
    "pycharm": {
     "name": "#%%\n"
    }
   }
  },
  {
   "cell_type": "code",
   "execution_count": 5,
   "outputs": [
    {
     "name": "stdout",
     "output_type": "stream",
     "text": [
      "0\n",
      "1\n",
      "2\n",
      "3\n",
      "4\n",
      "5\n",
      "6\n",
      "7\n",
      "8\n",
      "9\n",
      "10\n",
      "11\n",
      "12\n",
      "13\n",
      "14\n",
      "15\n",
      "16\n",
      "17\n",
      "18\n",
      "19\n",
      "20\n",
      "21\n",
      "22\n",
      "23\n",
      "24\n",
      "25\n",
      "26\n",
      "27\n",
      "28\n",
      "29\n",
      "30\n",
      "31\n",
      "32\n",
      "33\n",
      "34\n",
      "35\n",
      "36\n",
      "37\n",
      "38\n",
      "39\n",
      "40\n",
      "41\n",
      "42\n",
      "43\n",
      "44\n",
      "45\n",
      "46\n",
      "47\n",
      "48\n",
      "49\n",
      "50\n",
      "51\n",
      "52\n",
      "53\n",
      "54\n",
      "55\n",
      "56\n",
      "57\n",
      "58\n",
      "59\n",
      "60\n",
      "61\n",
      "62\n",
      "63\n"
     ]
    },
    {
     "ename": "KeyboardInterrupt",
     "evalue": "",
     "output_type": "error",
     "traceback": [
      "\u001B[1;31m---------------------------------------------------------------------------\u001B[0m",
      "\u001B[1;31mKeyboardInterrupt\u001B[0m                         Traceback (most recent call last)",
      "\u001B[1;32m<ipython-input-5-62676914bfce>\u001B[0m in \u001B[0;36m<module>\u001B[1;34m\u001B[0m\n\u001B[0;32m     14\u001B[0m     \u001B[0mRA\u001B[0m\u001B[1;33m=\u001B[0m\u001B[0mRepeatedForwardAStar\u001B[0m\u001B[1;33m(\u001B[0m\u001B[0mnew_maze\u001B[0m\u001B[1;33m,\u001B[0m \u001B[0meuclidean_heuristic\u001B[0m\u001B[1;33m)\u001B[0m\u001B[1;33m\u001B[0m\u001B[1;33m\u001B[0m\u001B[0m\n\u001B[0;32m     15\u001B[0m     \u001B[0mst\u001B[0m\u001B[1;33m=\u001B[0m\u001B[0mtime\u001B[0m\u001B[1;33m.\u001B[0m\u001B[0mtime\u001B[0m\u001B[1;33m(\u001B[0m\u001B[1;33m)\u001B[0m\u001B[1;33m\u001B[0m\u001B[1;33m\u001B[0m\u001B[0m\n\u001B[1;32m---> 16\u001B[1;33m     \u001B[0mpath\u001B[0m\u001B[1;33m=\u001B[0m\u001B[0mRA\u001B[0m\u001B[1;33m.\u001B[0m\u001B[0msearch\u001B[0m\u001B[1;33m(\u001B[0m\u001B[0mstart_cell\u001B[0m\u001B[1;33m,\u001B[0m \u001B[0mgoal_cell\u001B[0m\u001B[1;33m)\u001B[0m\u001B[1;33m\u001B[0m\u001B[1;33m\u001B[0m\u001B[0m\n\u001B[0m\u001B[0;32m     17\u001B[0m     \u001B[0med\u001B[0m\u001B[1;33m=\u001B[0m\u001B[0mtime\u001B[0m\u001B[1;33m.\u001B[0m\u001B[0mtime\u001B[0m\u001B[1;33m(\u001B[0m\u001B[1;33m)\u001B[0m\u001B[1;33m-\u001B[0m\u001B[0mst\u001B[0m\u001B[1;33m\u001B[0m\u001B[1;33m\u001B[0m\u001B[0m\n\u001B[0;32m     18\u001B[0m     \u001B[0msave_data\u001B[0m\u001B[1;33m[\u001B[0m\u001B[0mstr\u001B[0m\u001B[1;33m(\u001B[0m\u001B[0mindex\u001B[0m\u001B[1;33m)\u001B[0m\u001B[1;33m]\u001B[0m\u001B[1;33m[\u001B[0m\u001B[1;34m'path'\u001B[0m\u001B[1;33m]\u001B[0m\u001B[1;33m=\u001B[0m\u001B[0mmaze_file_path\u001B[0m\u001B[1;33m\u001B[0m\u001B[1;33m\u001B[0m\u001B[0m\n",
      "\u001B[1;32mD:\\jupyter\\jupyter_file\\pro1\\algorithm_pro1.py\u001B[0m in \u001B[0;36msearch\u001B[1;34m(self, start_cell, goal_cell, only_bump, smart_restart, find_hallway)\u001B[0m\n\u001B[0;32m    155\u001B[0m             \u001B[1;31m# search the path in the current percepted maze\u001B[0m\u001B[1;33m\u001B[0m\u001B[1;33m\u001B[0m\u001B[1;33m\u001B[0m\u001B[0m\n\u001B[0;32m    156\u001B[0m             \u001B[0mastar\u001B[0m \u001B[1;33m=\u001B[0m \u001B[0mAStar\u001B[0m\u001B[1;33m(\u001B[0m\u001B[0mself\u001B[0m\u001B[1;33m.\u001B[0m\u001B[0mdiscovered_maze\u001B[0m\u001B[1;33m,\u001B[0m \u001B[0mself\u001B[0m\u001B[1;33m.\u001B[0m\u001B[0mheuristic\u001B[0m\u001B[1;33m)\u001B[0m\u001B[1;33m\u001B[0m\u001B[1;33m\u001B[0m\u001B[0m\n\u001B[1;32m--> 157\u001B[1;33m             \u001B[0mpath\u001B[0m \u001B[1;33m=\u001B[0m \u001B[0mastar\u001B[0m\u001B[1;33m.\u001B[0m\u001B[0msearch\u001B[0m\u001B[1;33m(\u001B[0m\u001B[0mcurrent_cell\u001B[0m\u001B[1;33m,\u001B[0m \u001B[0mgoal_cell\u001B[0m\u001B[1;33m)\u001B[0m\u001B[1;33m\u001B[0m\u001B[1;33m\u001B[0m\u001B[0m\n\u001B[0m\u001B[0;32m    158\u001B[0m             \u001B[1;31m# print('Current at {}, path: {}'.format(current_cell, path))\u001B[0m\u001B[1;33m\u001B[0m\u001B[1;33m\u001B[0m\u001B[1;33m\u001B[0m\u001B[0m\n\u001B[0;32m    159\u001B[0m             \u001B[1;31m# could not find a path\u001B[0m\u001B[1;33m\u001B[0m\u001B[1;33m\u001B[0m\u001B[1;33m\u001B[0m\u001B[0m\n",
      "\u001B[1;32mD:\\jupyter\\jupyter_file\\pro1\\algorithm_pro1.py\u001B[0m in \u001B[0;36msearch\u001B[1;34m(self, start_cell, goal_cell)\u001B[0m\n\u001B[0;32m     41\u001B[0m                     \u001B[0mopen_list\u001B[0m\u001B[1;33m.\u001B[0m\u001B[0mput\u001B[0m\u001B[1;33m(\u001B[0m\u001B[1;33m(\u001B[0m\u001B[0mchild_cell\u001B[0m\u001B[1;33m.\u001B[0m\u001B[0mfn\u001B[0m\u001B[1;33m,\u001B[0m \u001B[0mchild_cell\u001B[0m\u001B[1;33m)\u001B[0m\u001B[1;33m)\u001B[0m\u001B[1;33m\u001B[0m\u001B[1;33m\u001B[0m\u001B[0m\n\u001B[0;32m     42\u001B[0m                 \u001B[1;31m# g(n0) > g(n) + 1, insert n0 into the fringe at priority f(n0) = g(n0) + h(n0),\u001B[0m\u001B[1;33m\u001B[0m\u001B[1;33m\u001B[0m\u001B[1;33m\u001B[0m\u001B[0m\n\u001B[1;32m---> 43\u001B[1;33m                 \u001B[1;32melif\u001B[0m \u001B[0mchild_cell\u001B[0m\u001B[1;33m.\u001B[0m\u001B[0mgn\u001B[0m \u001B[1;33m<\u001B[0m \u001B[0mclosed_dict\u001B[0m\u001B[1;33m[\u001B[0m\u001B[0mchild_cell\u001B[0m\u001B[1;33m]\u001B[0m\u001B[1;33m:\u001B[0m\u001B[1;33m\u001B[0m\u001B[1;33m\u001B[0m\u001B[0m\n\u001B[0m\u001B[0;32m     44\u001B[0m                     \u001B[0mclosed_dict\u001B[0m\u001B[1;33m.\u001B[0m\u001B[0mpop\u001B[0m\u001B[1;33m(\u001B[0m\u001B[0mchild_cell\u001B[0m\u001B[1;33m)\u001B[0m\u001B[1;33m\u001B[0m\u001B[1;33m\u001B[0m\u001B[0m\n\u001B[0;32m     45\u001B[0m                     \u001B[0mopen_list\u001B[0m\u001B[1;33m.\u001B[0m\u001B[0mput\u001B[0m\u001B[1;33m(\u001B[0m\u001B[1;33m(\u001B[0m\u001B[0mchild_cell\u001B[0m\u001B[1;33m.\u001B[0m\u001B[0mfn\u001B[0m\u001B[1;33m,\u001B[0m \u001B[0mchild_cell\u001B[0m\u001B[1;33m)\u001B[0m\u001B[1;33m)\u001B[0m\u001B[1;33m\u001B[0m\u001B[1;33m\u001B[0m\u001B[0m\n",
      "\u001B[1;32mD:\\jupyter\\jupyter_file\\pro1\\maze_pro1.py\u001B[0m in \u001B[0;36m__hash__\u001B[1;34m(self)\u001B[0m\n\u001B[0;32m     46\u001B[0m         \u001B[1;32mreturn\u001B[0m \u001B[0mself\u001B[0m\u001B[1;33m.\u001B[0m\u001B[0mfn\u001B[0m\u001B[1;33m\u001B[0m\u001B[1;33m\u001B[0m\u001B[0m\n\u001B[0;32m     47\u001B[0m \u001B[1;33m\u001B[0m\u001B[0m\n\u001B[1;32m---> 48\u001B[1;33m     \u001B[1;32mdef\u001B[0m \u001B[0m__hash__\u001B[0m\u001B[1;33m(\u001B[0m\u001B[0mself\u001B[0m\u001B[1;33m)\u001B[0m\u001B[1;33m:\u001B[0m\u001B[1;33m\u001B[0m\u001B[1;33m\u001B[0m\u001B[0m\n\u001B[0m\u001B[0;32m     49\u001B[0m         \u001B[1;32mreturn\u001B[0m \u001B[0mhash\u001B[0m\u001B[1;33m(\u001B[0m\u001B[0mtuple\u001B[0m\u001B[1;33m(\u001B[0m\u001B[0mself\u001B[0m\u001B[1;33m.\u001B[0m\u001B[0mposition\u001B[0m\u001B[1;33m)\u001B[0m\u001B[1;33m)\u001B[0m\u001B[1;33m\u001B[0m\u001B[1;33m\u001B[0m\u001B[0m\n\u001B[0;32m     50\u001B[0m \u001B[1;33m\u001B[0m\u001B[0m\n",
      "\u001B[1;31mKeyboardInterrupt\u001B[0m: "
     ]
    }
   ],
   "source": [
    "maze_files_list=os.listdir(maze_files_path)\n",
    "save_data={}\n",
    "for index, maze_file in enumerate(maze_files_list):\n",
    "    print(index)\n",
    "    save_data[str(index)]={}\n",
    "    maze_file_path=os.path.join(maze_files_path, maze_file)\n",
    "    with open(maze_file_path,'r') as a:\n",
    "        maze_str=a.read()\n",
    "    maze=json.loads(maze_str)\n",
    "    new_maze=Maze(50,50)\n",
    "    new_maze.data=maze\n",
    "    goal_cell = Cell((49, 49))\n",
    "    start_cell = Cell((0, 0))\n",
    "    RA=RepeatedForwardAStar(new_maze, euclidean_heuristic)\n",
    "    st=time.time()\n",
    "    path=RA.search(start_cell, goal_cell)\n",
    "    ed=time.time()-st\n",
    "    save_data[str(index)]['path']=maze_file_path\n",
    "    save_data[str(index)]['mimic']={}\n",
    "    save_data[str(index)]['mimic']['length']=0\n",
    "    save_data[str(index)]['mimic']['time']=0\n",
    "    save_data[str(index)][\"origin\"]={}\n",
    "    save_data[str(index)]['origin']['length']=len(path)\n",
    "    save_data[str(index)]['origin']['time']=ed\n",
    "\n",
    "save_file_name='data_for_pro1'\n",
    "save_path=os.path.join(save_file_path, save_file_name)\n",
    "save_data_str=json.dumps(save_data)\n",
    "with open(save_path, 'w') as a:\n",
    "    a.write(save_data_str)\n",
    "\n",
    "\n"
   ],
   "metadata": {
    "collapsed": false,
    "pycharm": {
     "name": "#%%\n"
    }
   }
  },
  {
   "cell_type": "code",
   "execution_count": null,
   "outputs": [],
   "source": [],
   "metadata": {
    "collapsed": false,
    "pycharm": {
     "name": "#%%\n"
    }
   }
  }
 ],
 "metadata": {
  "kernelspec": {
   "display_name": "Python 3",
   "language": "python",
   "name": "python3"
  },
  "language_info": {
   "codemirror_mode": {
    "name": "ipython",
    "version": 2
   },
   "file_extension": ".py",
   "mimetype": "text/x-python",
   "name": "python",
   "nbconvert_exporter": "python",
   "pygments_lexer": "ipython2",
   "version": "2.7.6"
  }
 },
 "nbformat": 4,
 "nbformat_minor": 0
}