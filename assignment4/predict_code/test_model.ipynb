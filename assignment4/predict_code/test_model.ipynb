{
 "cells": [
  {
   "cell_type": "code",
   "execution_count": 7,
   "metadata": {
    "collapsed": true
   },
   "outputs": [],
   "source": [
    "import torch\n",
    "import tqdm\n",
    "import os\n",
    "import json\n",
    "import numpy as np\n",
    "from torch.utils.data import DataLoader, Dataset, TensorDataset"
   ]
  },
  {
   "cell_type": "code",
   "execution_count": 8,
   "outputs": [],
   "source": [
    "\n",
    "# class CNN_net(torch.nn.Module):\n",
    "#     def __init__(self):\n",
    "#         super(CNN_net,self).__init__()\n",
    "#         self.conv1 = torch.nn.Sequential(\n",
    "#             torch.nn.Conv2d(in_channels=2,\n",
    "#                             out_channels=16,\n",
    "#                             kernel_size=(3,3),\n",
    "#                             stride=(1,1),\n",
    "#                             padding=1),\n",
    "#             torch.nn.BatchNorm2d(16),\n",
    "#             torch.nn.ReLU(),\n",
    "#             torch.nn.MaxPool2d(kernel_size=2)\n",
    "#         )\n",
    "#         self.conv2 = torch.nn.Sequential(\n",
    "#             torch.nn.Conv2d(16,32,(3,3),(1,1),1),\n",
    "#             torch.nn.BatchNorm2d(32),\n",
    "#             torch.nn.ReLU(),\n",
    "#             torch.nn.MaxPool2d(kernel_size=2)\n",
    "#         )\n",
    "#         self.conv3 = torch.nn.Sequential(\n",
    "#             torch.nn.Conv2d(32,64,(3,3),(1,1),1),\n",
    "#             torch.nn.BatchNorm2d(64),\n",
    "#             torch.nn.ReLU(),\n",
    "#             torch.nn.MaxPool2d(kernel_size=2)\n",
    "#         )\n",
    "#\n",
    "#         self.conv4 = torch.nn.Sequential(\n",
    "#             torch.nn.Conv2d(64,128,(3,3),(1,1),1),\n",
    "#             torch.nn.BatchNorm2d(128),\n",
    "#             torch.nn.ReLU(),\n",
    "#             torch.nn.MaxPool2d(kernel_size=2)\n",
    "#         )\n",
    "#\n",
    "#         self.mlp1 = torch.nn.Linear(3*3*128,4)\n",
    "#\n",
    "#     def forward(self, x):\n",
    "#         x = self.conv1(x)\n",
    "#         # print(x.shape)\n",
    "#         x = self.conv2(x)\n",
    "#         # print(x.shape)\n",
    "#         x = self.conv3(x)\n",
    "#         # print(x.shape)\n",
    "#         x = self.conv4(x)\n",
    "#         # print(x.shape)\n",
    "#         x = x.view(x.size(0),-1)\n",
    "#         # print(x.shape)\n",
    "#         x = self.mlp1(x)\n",
    "#         # print(x.shape)\n",
    "#         # print(x)\n",
    "#         return x\n"
   ],
   "metadata": {
    "collapsed": false,
    "pycharm": {
     "name": "#%%\n"
    }
   }
  },
  {
   "cell_type": "code",
   "execution_count": 9,
   "outputs": [],
   "source": [
    "\n",
    "class CNN_net(torch.nn.Module):\n",
    "    def __init__(self):\n",
    "        super(CNN_net,self).__init__()\n",
    "        self.conv1 = torch.nn.Sequential(\n",
    "            torch.nn.Conv2d(in_channels=2,\n",
    "                            out_channels=16,\n",
    "                            kernel_size=(3,3),\n",
    "                            stride=(1,1),\n",
    "                            padding=1),\n",
    "            torch.nn.BatchNorm2d(16),\n",
    "            torch.nn.ReLU(),\n",
    "            torch.nn.MaxPool2d(kernel_size=2)\n",
    "        )\n",
    "        self.conv2 = torch.nn.Sequential(\n",
    "            torch.nn.Conv2d(16,32,(3,3),(1,1),1),\n",
    "            torch.nn.BatchNorm2d(32),\n",
    "            torch.nn.ReLU(),\n",
    "            torch.nn.MaxPool2d(kernel_size=2)\n",
    "        )\n",
    "        self.conv3 = torch.nn.Sequential(\n",
    "            torch.nn.Conv2d(32,64,(3,3),(1,1),1),\n",
    "            torch.nn.BatchNorm2d(64),\n",
    "            torch.nn.ReLU(),\n",
    "            torch.nn.MaxPool2d(kernel_size=2)\n",
    "        )\n",
    "\n",
    "        self.conv4 = torch.nn.Sequential(\n",
    "            torch.nn.Conv2d(64,128,(3,3),(1,1),1),\n",
    "            torch.nn.BatchNorm2d(128),\n",
    "            torch.nn.ReLU(),\n",
    "            torch.nn.MaxPool2d(kernel_size=2)\n",
    "        )\n",
    "\n",
    "        self.mlp1 = torch.nn.Linear(3*3*128,12)\n",
    "        self.mlp2=torch.nn.Linear(12, 4)\n",
    "\n",
    "    def forward(self, x):\n",
    "        x = self.conv1(x)\n",
    "        # print(x.shape)\n",
    "        x = self.conv2(x)\n",
    "        # print(x.shape)\n",
    "        x = self.conv3(x)\n",
    "        # print(x.shape)\n",
    "        x = self.conv4(x)\n",
    "        # print(x.shape)\n",
    "        x = x.view(x.size(0),-1)\n",
    "        # print(x.shape)\n",
    "        x = self.mlp1(x)\n",
    "        # print(x.shape)\n",
    "        x=self.mlp2(x)\n",
    "        # print(x)\n",
    "        return x\n"
   ],
   "metadata": {
    "collapsed": false,
    "pycharm": {
     "name": "#%%\n"
    }
   }
  },
  {
   "cell_type": "code",
   "execution_count": 10,
   "outputs": [
    {
     "data": {
      "text/plain": "['epoch_0_countOfFile0_Acc_0.27284392474572433_Loss_1.7036027831908984.pth',\n 'epoch_0_countOfFile0_Acc_0.275334788433838_Loss_1.762751036729568.pth',\n 'epoch_0_countOfFile200_Acc_0.6349163741092548_Loss_0.8292748133030162.pth',\n 'epoch_10_countOfFile0_Acc_0.8956667777910567_Loss_0.26866016804407805.pth',\n 'epoch_10_countOfFile200_Acc_0.8992189733165725_Loss_0.2567718841665181.pth',\n 'epoch_11_countOfFile0_Acc_0.8960378913203465_Loss_0.26750586888729.pth',\n 'epoch_11_countOfFile200_Acc_0.9008370178310889_Loss_0.25273884874030045.pth',\n 'epoch_12_countOfFile0_Acc_0.89783055836861_Loss_0.26404917278350926.pth',\n 'epoch_12_countOfFile200_Acc_0.9025910041894601_Loss_0.24878344655105272.pth',\n 'epoch_13_countOfFile0_Acc_0.8989250287770236_Loss_0.2607274265625538.pth',\n 'epoch_13_countOfFile200_Acc_0.9012568995917485_Loss_0.2525978943431228.pth',\n 'epoch_14_countOfFile0_Acc_0.9002773916379945_Loss_0.2576088970288252.pth',\n 'epoch_14_countOfFile200_Acc_0.9039630855253795_Loss_0.2456891128517065.pth',\n 'epoch_1_countOfFile0_Acc_0.8458495040287833_Loss_0.3853090138007433.pth',\n 'epoch_1_countOfFile200_Acc_0.856097367536865_Loss_0.3594202863325807.pth',\n 'epoch_2_countOfFile0_Acc_0.8634805416999516_Loss_0.34185700309582245.pth',\n 'epoch_2_countOfFile200_Acc_0.8681968507260154_Loss_0.3289836595529006.pth',\n 'epoch_3_countOfFile0_Acc_0.8712550556355791_Loss_0.32421007332129353.pth',\n 'epoch_3_countOfFile200_Acc_0.87792385728689_Loss_0.30614758407498377.pth',\n 'epoch_4_countOfFile0_Acc_0.8782621822733534_Loss_0.30737176537513733.pth',\n 'epoch_4_countOfFile200_Acc_0.8818447180616994_Loss_0.297705175813991.pth',\n 'epoch_5_countOfFile0_Acc_0.8810549688327536_Loss_0.30013056118518877.pth',\n 'epoch_5_countOfFile200_Acc_0.8884912305310954_Loss_0.28207100362658233.pth',\n 'epoch_6_countOfFile0_Acc_0.8866216717720986_Loss_0.28968521914420986.pth',\n 'epoch_6_countOfFile200_Acc_0.8899404555108009_Loss_0.27897212544886213.pth',\n 'epoch_7_countOfFile0_Acc_0.8896031601260528_Loss_0.2829434327208079.pth',\n 'epoch_7_countOfFile200_Acc_0.8941814898388624_Loss_0.2689474801123987.pth',\n 'epoch_8_countOfFile0_Acc_0.8913014762770394_Loss_0.2794233371432011.pth',\n 'epoch_8_countOfFile200_Acc_0.8948131861785532_Loss_0.2673952299521245.pth',\n 'epoch_9_countOfFile0_Acc_0.8930312427271183_Loss_0.2736844456730745.pth',\n 'epoch_9_countOfFile200_Acc_0.8930123004036842_Loss_0.2716741490871556.pth']"
     },
     "execution_count": 10,
     "metadata": {},
     "output_type": "execute_result"
    }
   ],
   "source": [
    "test_model_path='D:\\\\520_data\\\\model_for_project3\\\\new'\n",
    "test_model_list=os.listdir(test_model_path)\n",
    "test_model_list"
   ],
   "metadata": {
    "collapsed": false,
    "pycharm": {
     "name": "#%%\n"
    }
   }
  },
  {
   "cell_type": "code",
   "execution_count": 5,
   "outputs": [
    {
     "ename": "KeyError",
     "evalue": "'forward'",
     "output_type": "error",
     "traceback": [
      "\u001B[1;31m---------------------------------------------------------------------------\u001B[0m",
      "\u001B[1;31mKeyError\u001B[0m                                  Traceback (most recent call last)",
      "\u001B[1;32m<ipython-input-5-1926369963de>\u001B[0m in \u001B[0;36m<module>\u001B[1;34m\u001B[0m\n\u001B[0;32m     16\u001B[0m     \u001B[0mtest_data_x\u001B[0m\u001B[1;33m.\u001B[0m\u001B[0mappend\u001B[0m\u001B[1;33m(\u001B[0m\u001B[0msub_test_data_x\u001B[0m\u001B[1;33m)\u001B[0m\u001B[1;33m\u001B[0m\u001B[1;33m\u001B[0m\u001B[0m\n\u001B[0;32m     17\u001B[0m \u001B[1;33m\u001B[0m\u001B[0m\n\u001B[1;32m---> 18\u001B[1;33m     \u001B[0mtest_data_y\u001B[0m\u001B[1;33m.\u001B[0m\u001B[0mappend\u001B[0m\u001B[1;33m(\u001B[0m\u001B[0mone_train_data\u001B[0m\u001B[1;33m[\u001B[0m\u001B[1;34m\"forward\"\u001B[0m\u001B[1;33m]\u001B[0m\u001B[1;33m)\u001B[0m\u001B[1;33m\u001B[0m\u001B[1;33m\u001B[0m\u001B[0m\n\u001B[0m\u001B[0;32m     19\u001B[0m \u001B[1;33m\u001B[0m\u001B[0m\n\u001B[0;32m     20\u001B[0m \u001B[0mtest_data_x\u001B[0m \u001B[1;33m=\u001B[0m \u001B[0mtorch\u001B[0m\u001B[1;33m.\u001B[0m\u001B[0mtensor\u001B[0m\u001B[1;33m(\u001B[0m\u001B[0mtest_data_x\u001B[0m\u001B[1;33m,\u001B[0m \u001B[0mdtype\u001B[0m\u001B[1;33m=\u001B[0m\u001B[0mtorch\u001B[0m\u001B[1;33m.\u001B[0m\u001B[0mfloat\u001B[0m\u001B[1;33m)\u001B[0m\u001B[1;33m\u001B[0m\u001B[1;33m\u001B[0m\u001B[0m\n",
      "\u001B[1;31mKeyError\u001B[0m: 'forward'"
     ]
    }
   ],
   "source": [
    "test_file_path='D:\\\\520_data\\\\data.tar\\\\data\\\\Data\\\\train_data\\\\1320.json'\n",
    "with open(test_file_path, 'r') as data_reader:\n",
    "    test_data=data_reader.read()\n",
    "test_data=json.loads(test_data)\n",
    "\n",
    "test_data_x=[]\n",
    "test_data_y=[]\n",
    "\n",
    "for i in test_data.keys():\n",
    "    input_data_1 = [[0 for i1 in range(50)] for i2 in range(50)]\n",
    "    one_train_data = test_data[i]\n",
    "    agent_x, agent_y = one_train_data[\"agent_position\"]\n",
    "    input_data_1[agent_x][agent_y] = 1\n",
    "\n",
    "    sub_test_data_x = [input_data_1, one_train_data[\"maze\"]]\n",
    "    test_data_x.append(sub_test_data_x)\n",
    "\n",
    "    test_data_y.append(one_train_data[\"forward\"])\n",
    "\n",
    "test_data_x = torch.tensor(test_data_x, dtype=torch.float)\n",
    "test_data_y = torch.tensor(test_data_y, dtype=torch.float)\n",
    "\n",
    "data_set_train = TensorDataset(test_data_x, test_data_y)\n",
    "test_data = DataLoader(dataset=data_set_train,\n",
    "                       batch_size=1024,\n",
    "                       shuffle=True)\n",
    "\n"
   ],
   "metadata": {
    "collapsed": false,
    "pycharm": {
     "name": "#%%\n"
    }
   }
  },
  {
   "cell_type": "code",
   "execution_count": 11,
   "outputs": [],
   "source": [
    "def get_forward(path, index):\n",
    "    # 上下左右\n",
    "    path_len = len(path)\n",
    "    if index == path_len - 1:\n",
    "        return [0, 0, 0, 0]\n",
    "    else:\n",
    "        x1, y1 = path[index]\n",
    "        x2, y2 = path[index + 1]\n",
    "        if x1 - 1 == x2:\n",
    "            return [1, 0, 0, 0]\n",
    "        elif x1 + 1 == x2:\n",
    "            return [0, 1, 0, 0]\n",
    "        elif y1 - 1 == y2:\n",
    "            return [0, 0, 1, 0]\n",
    "        elif y1 + 1 == y2:\n",
    "            return [0, 0, 0, 1]\n",
    "        else:\n",
    "            return [1, 1, 1, 1]"
   ],
   "metadata": {
    "collapsed": false,
    "pycharm": {
     "name": "#%%\n"
    }
   }
  },
  {
   "cell_type": "code",
   "execution_count": 12,
   "outputs": [],
   "source": [
    "test_file_path='D:\\\\520_data\\\\data.tar\\\\data\\\\Data\\\\train_data\\\\1320.json'\n",
    "with open(test_file_path, 'r') as data_reader:\n",
    "    test_data=data_reader.read()\n",
    "test_data=json.loads(test_data)\n",
    "\n",
    "test_data_x=[]\n",
    "test_data_y=[]\n",
    "\n",
    "for i in test_data.keys():\n",
    "    one_train_data = test_data[i]\n",
    "    path=one_train_data[\"path\"]\n",
    "    path_length=len(path)\n",
    "    for index, (agent_x, agent_y) in enumerate(path):\n",
    "        if index<path_length-1:\n",
    "            input_data_1=[[0 for i1 in range(50)] for i2 in range(50)]\n",
    "            target_x, target_y = one_train_data[\"target_position\"]\n",
    "            input_data_1[agent_x][agent_y] = 1\n",
    "            input_data_1[target_x][target_y]=10\n",
    "            sub_train_data_x = [input_data_1, one_train_data[\"maze\"]]\n",
    "            test_data_x.append(sub_train_data_x)\n",
    "            test_data_y.append(get_forward(path, index))\n",
    "\n",
    "test_data_x=test_data_x[:4056]\n",
    "test_data_y=test_data_y[:4056]\n",
    "\n",
    "test_data_x = torch.tensor(test_data_x, dtype=torch.float)\n",
    "test_data_y = torch.tensor(test_data_y, dtype=torch.float)\n",
    "\n",
    "data_set_train = TensorDataset(test_data_x, test_data_y)\n",
    "test_data = DataLoader(dataset=data_set_train,\n",
    "                       batch_size=1024,\n",
    "                       shuffle=True)\n"
   ],
   "metadata": {
    "collapsed": false,
    "pycharm": {
     "name": "#%%\n"
    }
   }
  },
  {
   "cell_type": "code",
   "execution_count": 13,
   "outputs": [],
   "source": [
    "loss_func = torch.nn.CrossEntropyLoss()"
   ],
   "metadata": {
    "collapsed": false,
    "pycharm": {
     "name": "#%%\n"
    }
   }
  },
  {
   "cell_type": "code",
   "execution_count": 14,
   "outputs": [
    {
     "name": "stdout",
     "output_type": "stream",
     "text": [
      "0\n",
      "1\n",
      "2\n",
      "3\n",
      "4\n",
      "5\n",
      "6\n",
      "7\n",
      "8\n",
      "9\n",
      "10\n",
      "11\n",
      "12\n",
      "13\n",
      "14\n",
      "15\n",
      "16\n",
      "17\n",
      "18\n",
      "19\n",
      "20\n",
      "21\n",
      "22\n",
      "23\n",
      "24\n",
      "25\n",
      "26\n",
      "27\n",
      "28\n",
      "29\n",
      "30\n"
     ]
    }
   ],
   "source": [
    "result={}\n",
    "\n",
    "for index, test_model_file in enumerate(test_model_list):\n",
    "    print(index)\n",
    "    loss_list=[]\n",
    "    acc_list=[]\n",
    "    test_model=os.path.join(test_model_path, test_model_file)\n",
    "    model=torch.load(test_model, map_location=torch.device('cpu'))\n",
    "    model.eval()\n",
    "    for test_data_x, test_data_y in test_data:\n",
    "        predict=model(test_data_x)\n",
    "        loss_list.append(loss_func(predict, test_data_y).item())\n",
    "        acc_list.append(torch.eq(predict.argmax(1), test_data_y.argmax(1)).sum().float().item()/len(test_data_x))\n",
    "    result[test_model_file]={}\n",
    "    result[test_model_file]['acc']=np.mean(acc_list)\n",
    "    result[test_model_file]['loss']=np.mean(loss_list)\n",
    "\n"
   ],
   "metadata": {
    "collapsed": false,
    "pycharm": {
     "name": "#%%\n"
    }
   }
  },
  {
   "cell_type": "code",
   "execution_count": 15,
   "outputs": [
    {
     "data": {
      "text/plain": "['epoch_0_countOfFile0_Acc_0.27284392474572433_Loss_1.7036027831908984.pth',\n 'epoch_0_countOfFile0_Acc_0.275334788433838_Loss_1.762751036729568.pth',\n 'epoch_0_countOfFile200_Acc_0.6349163741092548_Loss_0.8292748133030162.pth',\n 'epoch_1_countOfFile0_Acc_0.8458495040287833_Loss_0.3853090138007433.pth',\n 'epoch_2_countOfFile200_Acc_0.8681968507260154_Loss_0.3289836595529006.pth',\n 'epoch_1_countOfFile200_Acc_0.856097367536865_Loss_0.3594202863325807.pth',\n 'epoch_3_countOfFile200_Acc_0.87792385728689_Loss_0.30614758407498377.pth',\n 'epoch_4_countOfFile200_Acc_0.8818447180616994_Loss_0.297705175813991.pth',\n 'epoch_5_countOfFile200_Acc_0.8884912305310954_Loss_0.28207100362658233.pth',\n 'epoch_3_countOfFile0_Acc_0.8712550556355791_Loss_0.32421007332129353.pth',\n 'epoch_2_countOfFile0_Acc_0.8634805416999516_Loss_0.34185700309582245.pth',\n 'epoch_5_countOfFile0_Acc_0.8810549688327536_Loss_0.30013056118518877.pth',\n 'epoch_4_countOfFile0_Acc_0.8782621822733534_Loss_0.30737176537513733.pth',\n 'epoch_8_countOfFile0_Acc_0.8913014762770394_Loss_0.2794233371432011.pth',\n 'epoch_6_countOfFile0_Acc_0.8866216717720986_Loss_0.28968521914420986.pth',\n 'epoch_7_countOfFile200_Acc_0.8941814898388624_Loss_0.2689474801123987.pth',\n 'epoch_10_countOfFile200_Acc_0.8992189733165725_Loss_0.2567718841665181.pth',\n 'epoch_6_countOfFile200_Acc_0.8899404555108009_Loss_0.27897212544886213.pth',\n 'epoch_7_countOfFile0_Acc_0.8896031601260528_Loss_0.2829434327208079.pth',\n 'epoch_8_countOfFile200_Acc_0.8948131861785532_Loss_0.2673952299521245.pth',\n 'epoch_13_countOfFile200_Acc_0.9012568995917485_Loss_0.2525978943431228.pth',\n 'epoch_9_countOfFile200_Acc_0.8930123004036842_Loss_0.2716741490871556.pth',\n 'epoch_9_countOfFile0_Acc_0.8930312427271183_Loss_0.2736844456730745.pth',\n 'epoch_11_countOfFile200_Acc_0.9008370178310889_Loss_0.25273884874030045.pth',\n 'epoch_12_countOfFile0_Acc_0.89783055836861_Loss_0.26404917278350926.pth',\n 'epoch_10_countOfFile0_Acc_0.8956667777910567_Loss_0.26866016804407805.pth',\n 'epoch_14_countOfFile200_Acc_0.9039630855253795_Loss_0.2456891128517065.pth',\n 'epoch_12_countOfFile200_Acc_0.9025910041894601_Loss_0.24878344655105272.pth',\n 'epoch_11_countOfFile0_Acc_0.8960378913203465_Loss_0.26750586888729.pth',\n 'epoch_14_countOfFile0_Acc_0.9002773916379945_Loss_0.2576088970288252.pth',\n 'epoch_13_countOfFile0_Acc_0.8989250287770236_Loss_0.2607274265625538.pth']"
     },
     "execution_count": 15,
     "metadata": {},
     "output_type": "execute_result"
    }
   ],
   "source": [
    "result_copy=result.copy()\n",
    "keys=list(result_copy.keys())\n",
    "keys.sort(key=lambda t:result_copy[t]['acc'])\n",
    "keys"
   ],
   "metadata": {
    "collapsed": false,
    "pycharm": {
     "name": "#%%\n"
    }
   }
  },
  {
   "cell_type": "code",
   "execution_count": 8,
   "outputs": [
    {
     "data": {
      "text/plain": "{'epoch_0_Acc_0.771307986194638_Loss_0.41693937187145624.pth': {'acc': 0.7400390625000001,\n  'loss': 0.4635235865910848},\n 'epoch_10_Acc_0.7754555631403225_Loss_0.4074152831686711.pth': {'acc': 0.7531684027777779,\n  'loss': 0.4540112018585205},\n 'epoch_11_Acc_0.7755864118849352_Loss_0.40696871082982905.pth': {'acc': 0.7599247685185185,\n  'loss': 0.4495169321695964},\n 'epoch_12_Acc_0.7759231408211309_Loss_0.40672753454648153.pth': {'acc': 0.7596788194444445,\n  'loss': 0.44435324271519977},\n 'epoch_13_Acc_0.7761131672750494_Loss_0.40606264039462125.pth': {'acc': 0.7508391203703703,\n  'loss': 0.449456254641215},\n 'epoch_14_Acc_0.7761603379685011_Loss_0.40603726051975936.pth': {'acc': 0.7535300925925926,\n  'loss': 0.44486716389656067},\n 'epoch_15_Acc_0.7766100294512532_Loss_0.40549010344586817.pth': {'acc': 0.7496744791666666,\n  'loss': 0.4443869690100352},\n 'epoch_16_Acc_0.7765689643197495_Loss_0.4051238639068539.pth': {'acc': 0.7612774884259258,\n  'loss': 0.44477038582166034},\n 'epoch_17_Acc_0.7768917157373713_Loss_0.40490591082596106.pth': {'acc': 0.7581741898148149,\n  'loss': 0.4425620635350545},\n 'epoch_18_Acc_0.7770225171432937_Loss_0.4043192757167924.pth': {'acc': 0.7554036458333333,\n  'loss': 0.4413687586784363},\n 'epoch_19_Acc_0.7772139097734302_Loss_0.40427054230978754.pth': {'acc': 0.757175925925926,\n  'loss': 0.4383575916290283},\n 'epoch_1_Acc_0.772144475459021_Loss_0.4147057712290174.pth': {'acc': 0.7524016203703704,\n  'loss': 0.45435503125190735},\n 'epoch_20_Acc_0.7769628461108069_Loss_0.4045665782607881.pth': {'acc': 0.7592881944444444,\n  'loss': 0.4434950351715088},\n 'epoch_21_Acc_0.7775310809223587_Loss_0.4035212273802801.pth': {'acc': 0.7564308449074074,\n  'loss': 0.4446737269560496},\n 'epoch_22_Acc_0.7775551640707736_Loss_0.40351111739673085.pth': {'acc': 0.7588107638888889,\n  'loss': 0.442822923262914},\n 'epoch_2_Acc_0.772818692743423_Loss_0.4129452885236988.pth': {'acc': 0.7499131944444445,\n  'loss': 0.44673001766204834},\n 'epoch_3_Acc_0.7734450466670815_Loss_0.41206761347772536.pth': {'acc': 0.7544415509259258,\n  'loss': 0.44607336322466534},\n 'epoch_4_Acc_0.7737326413042439_Loss_0.41094968256537356.pth': {'acc': 0.7504846643518519,\n  'loss': 0.45370278755823773},\n 'epoch_5_Acc_0.7742923366815812_Loss_0.4102501245473041.pth': {'acc': 0.7506004050925926,\n  'loss': 0.44947649041811627},\n 'epoch_6_Acc_0.7743894733824912_Loss_0.4098629007494374.pth': {'acc': 0.7545789930555555,\n  'loss': 0.44523818294207257},\n 'epoch_7_Acc_0.7747512291105624_Loss_0.4088752816861961.pth': {'acc': 0.7561487268518517,\n  'loss': 0.4508541723092397},\n 'epoch_8_Acc_0.7749515871662644_Loss_0.4083007396172581.pth': {'acc': 0.7585141782407407,\n  'loss': 0.4456169307231903},\n 'epoch_9_Acc_0.7753679896782945_Loss_0.40795591918879737.pth': {'acc': 0.7535300925925926,\n  'loss': 0.44649799664815265}}"
     },
     "execution_count": 8,
     "metadata": {},
     "output_type": "execute_result"
    }
   ],
   "source": [
    "result_copy"
   ],
   "metadata": {
    "collapsed": false,
    "pycharm": {
     "name": "#%%\n"
    }
   }
  },
  {
   "cell_type": "code",
   "execution_count": 9,
   "outputs": [
    {
     "name": "stdout",
     "output_type": "stream",
     "text": [
      "tensor([3, 3, 3, 3, 3, 3, 3, 3, 3, 1])\n",
      "tensor([1, 1, 1, 1, 3, 3, 3, 3, 3, 1])\n"
     ]
    }
   ],
   "source": [
    "test_data_x1=test_data_x[:10]\n",
    "test_data_y1=test_data_y[:10]\n",
    "predict=model(test_data_x1)\n",
    "# print(test_data_x1.shape)\n",
    "# print(predict.shape)\n",
    "print(predict.argmax(1))\n",
    "print(test_data_y1.argmax(1))\n"
   ],
   "metadata": {
    "collapsed": false,
    "pycharm": {
     "name": "#%%\n"
    }
   }
  },
  {
   "cell_type": "code",
   "execution_count": 9,
   "outputs": [],
   "source": [
    "\n",
    "\n"
   ],
   "metadata": {
    "collapsed": false,
    "pycharm": {
     "name": "#%%\n"
    }
   }
  },
  {
   "cell_type": "code",
   "execution_count": 17,
   "outputs": [
    {
     "data": {
      "text/plain": "torch.Size([2, 2, 50, 50])"
     },
     "execution_count": 17,
     "metadata": {},
     "output_type": "execute_result"
    }
   ],
   "source": [
    "c=[]\n",
    "c1=torch.tensor(c,dtype=torch.float)\n",
    "\n",
    "\n",
    "a=torch.ones((2,50,50)).unsqueeze(0)\n",
    "\n",
    "b=torch.ones((2,50,50)).unsqueeze(0)\n",
    "c1=torch.concat((c1, a), dim=0)\n",
    "c1=torch.concat((c1,b), dim=0)\n",
    "c1.shape\n"
   ],
   "metadata": {
    "collapsed": false,
    "pycharm": {
     "name": "#%%\n"
    }
   }
  },
  {
   "cell_type": "code",
   "execution_count": 21,
   "outputs": [
    {
     "data": {
      "text/plain": "torch.Size([2, 50, 50])"
     },
     "execution_count": 21,
     "metadata": {},
     "output_type": "execute_result"
    }
   ],
   "source": [
    "a=[[1 for i in range(50)] for j in range(50)]\n",
    "b=[[1 for i in range(50)] for j in range(50)]\n",
    "c=[a,b]\n",
    "c1=torch.tensor(c, dtype=float)\n",
    "c1.shape"
   ],
   "metadata": {
    "collapsed": false,
    "pycharm": {
     "name": "#%%\n"
    }
   }
  },
  {
   "cell_type": "code",
   "execution_count": 96,
   "outputs": [
    {
     "data": {
      "text/plain": "tensor([[[0., 0., 0., 0., 0.],\n         [0., 0., 0., 0., 0.],\n         [0., 0., 0., 0., 0.],\n         [1., 0., 0., 0., 0.],\n         [0., 0., 0., 0., 0.]],\n\n        [[0., 0., 0., 0., 0.],\n         [0., 1., 0., 0., 0.],\n         [0., 0., 0., 0., 0.],\n         [0., 0., 1., 0., 0.],\n         [0., 0., 0., 0., 0.]]])"
     },
     "execution_count": 96,
     "metadata": {},
     "output_type": "execute_result"
    }
   ],
   "source": [
    "a=torch.zeros((2,5,5))\n",
    "b=[[1],(1,3),(1,2)]\n",
    "\n",
    "c=[[0],[3],[0]]\n",
    "\n",
    "a[b]=1\n",
    "input_data=a\n",
    "input_data[c]=1\n",
    "input_data\n",
    "\n"
   ],
   "metadata": {
    "collapsed": false,
    "pycharm": {
     "name": "#%%\n"
    }
   }
  },
  {
   "cell_type": "code",
   "execution_count": 97,
   "outputs": [
    {
     "data": {
      "text/plain": "tensor([0.5000, 1.0000, 0.7500, 1.0000])"
     },
     "execution_count": 97,
     "metadata": {},
     "output_type": "execute_result"
    }
   ],
   "source": [
    "a=torch.tensor([1,2,3,4])\n",
    "b=torch.tensor([2,2,4,4])\n",
    "a/b"
   ],
   "metadata": {
    "collapsed": false,
    "pycharm": {
     "name": "#%%\n"
    }
   }
  },
  {
   "cell_type": "code",
   "execution_count": 98,
   "outputs": [
    {
     "data": {
      "text/plain": "tensor([2, 3, 4, 5])"
     },
     "execution_count": 98,
     "metadata": {},
     "output_type": "execute_result"
    }
   ],
   "source": [
    " a+1"
   ],
   "metadata": {
    "collapsed": false,
    "pycharm": {
     "name": "#%%\n"
    }
   }
  },
  {
   "cell_type": "code",
   "execution_count": 103,
   "outputs": [
    {
     "data": {
      "text/plain": "49"
     },
     "execution_count": 103,
     "metadata": {},
     "output_type": "execute_result"
    }
   ],
   "source": [
    "a=0x61\n",
    "ord('1')"
   ],
   "metadata": {
    "collapsed": false,
    "pycharm": {
     "name": "#%%\n"
    }
   }
  },
  {
   "cell_type": "code",
   "execution_count": 1,
   "outputs": [
    {
     "name": "stdout",
     "output_type": "stream",
     "text": [
      "1\n",
      "2\n"
     ]
    }
   ],
   "source": [
    "a={\"1\":434, \"2\":123}\n",
    "for i in a:\n",
    "    print(i)"
   ],
   "metadata": {
    "collapsed": false,
    "pycharm": {
     "name": "#%%\n"
    }
   }
  },
  {
   "cell_type": "code",
   "execution_count": null,
   "outputs": [],
   "source": [],
   "metadata": {
    "collapsed": false,
    "pycharm": {
     "name": "#%%\n"
    }
   }
  }
 ],
 "metadata": {
  "kernelspec": {
   "display_name": "Python 3",
   "language": "python",
   "name": "python3"
  },
  "language_info": {
   "codemirror_mode": {
    "name": "ipython",
    "version": 2
   },
   "file_extension": ".py",
   "mimetype": "text/x-python",
   "name": "python",
   "nbconvert_exporter": "python",
   "pygments_lexer": "ipython2",
   "version": "2.7.6"
  }
 },
 "nbformat": 4,
 "nbformat_minor": 0
}